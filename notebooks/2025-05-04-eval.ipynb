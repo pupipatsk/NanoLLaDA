{
 "cells": [
  {
   "cell_type": "code",
   "execution_count": 1,
   "id": "038c72f2",
   "metadata": {},
   "outputs": [],
   "source": [
    "import os\n",
    "import pandas as pd\n",
    "from deepeval import evaluate\n",
    "from deepeval.test_case import LLMTestCase\n",
    "from deepeval.metrics import SummarizationMetric\n",
    "from deepeval.models import GeminiModel\n",
    "\n",
    "def batch_summarization_score(\n",
    "    input_output_pairs,\n",
    "    api_key,\n",
    "    batch_size=100,\n",
    "    # sleep_time=60,\n",
    "    # max_retries=3,\n",
    "    # retry_delay=10\n",
    "):\n",
    "    \"\"\"\n",
    "    Evaluates summarization quality in batches using the Gemini model with deepeval,\n",
    "    including automatic retries for failed evaluations.\n",
    "\n",
    "    Args:\n",
    "        input_output_pairs: List of tuples (input, actual_output)\n",
    "        api_key: Gemini API key string\n",
    "        batch_size: Number of evaluations per batch to avoid hitting rate limits\n",
    "        sleep_time: Sleep time in seconds between batches\n",
    "        max_retries: Number of retry attempts per batch on failure\n",
    "        retry_delay: Delay between retries in seconds\n",
    "\n",
    "    Returns:\n",
    "        List of dicts containing input, actual_output, score, reason\n",
    "    \"\"\"\n",
    "    model = GeminiModel(\n",
    "        model_name=\"gemini-2.0-flash\",\n",
    "        api_key=api_key,\n",
    "        temperature=0,\n",
    "    )\n",
    "\n",
    "    metric = SummarizationMetric(\n",
    "        threshold=0.5,\n",
    "        model=model,\n",
    "        # assessment_questions=[\n",
    "        #     \"Is the coverage score based on a percentage of 'yes' answers?\",\n",
    "        #     \"Does the score ensure the summary's accuracy with the source?\",\n",
    "        #     \"Does a higher score mean a more comprehensive summary?\"\n",
    "        # ]\n",
    "        n=10\n",
    "    )\n",
    "\n",
    "    results = []\n",
    "\n",
    "    for i in range(0, len(input_output_pairs), batch_size):\n",
    "        batch = input_output_pairs[i:i + batch_size]\n",
    "        test_cases = [LLMTestCase(input=inp, actual_output=out) for inp, out in batch]\n",
    "\n",
    "        try:\n",
    "            batch_result = evaluate(test_cases=test_cases, metrics=[metric])\n",
    "            for test_case, res in zip(batch, batch_result.test_results):\n",
    "                results.append(res)\n",
    "        except Exception as e:\n",
    "            print(f\"Batch {i // batch_size + 1} failed with error: {e}\")\n",
    "            for _ in batch:\n",
    "                results.append(None)  # Preserve alignment with input\n",
    "\n",
    "    return results"
   ]
  },
  {
   "cell_type": "code",
   "execution_count": 2,
   "id": "a5a110d8",
   "metadata": {},
   "outputs": [],
   "source": [
    "API_KEY = os.getenv(\"GEMINI_API_KEY\")"
   ]
  },
  {
   "cell_type": "code",
   "execution_count": 3,
   "id": "0513722f",
   "metadata": {},
   "outputs": [],
   "source": [
    "df = pd.read_csv(\"/Users/pupipatsingkhorn/Developer/repositories/NanoLLaDA/data/gemini_summaries.csv\")"
   ]
  },
  {
   "cell_type": "code",
   "execution_count": 4,
   "id": "bff878ad",
   "metadata": {},
   "outputs": [
    {
     "data": {
      "text/html": [
       "<pre style=\"white-space:pre;overflow-x:auto;line-height:normal;font-family:Menlo,'DejaVu Sans Mono',consolas,'Courier New',monospace\">✨ You're running DeepEval's latest <span style=\"color: #6a00ff; text-decoration-color: #6a00ff\">Summarization Metric</span>! <span style=\"color: #374151; text-decoration-color: #374151; font-weight: bold\">(</span><span style=\"color: #374151; text-decoration-color: #374151\">using gemini-</span><span style=\"color: #374151; text-decoration-color: #374151; font-weight: bold\">2.0</span><span style=\"color: #374151; text-decoration-color: #374151\">-flash, </span><span style=\"color: #374151; text-decoration-color: #374151\">strict</span><span style=\"color: #374151; text-decoration-color: #374151\">=</span><span style=\"color: #374151; text-decoration-color: #374151; font-style: italic\">False</span><span style=\"color: #374151; text-decoration-color: #374151\">, </span>\n",
       "<span style=\"color: #374151; text-decoration-color: #374151\">async_mode</span><span style=\"color: #374151; text-decoration-color: #374151\">=</span><span style=\"color: #374151; text-decoration-color: #374151; font-style: italic\">True</span><span style=\"color: #374151; text-decoration-color: #374151; font-weight: bold\">)</span><span style=\"color: #374151; text-decoration-color: #374151\">...</span>\n",
       "</pre>\n"
      ],
      "text/plain": [
       "✨ You're running DeepEval's latest \u001b[38;2;106;0;255mSummarization Metric\u001b[0m! \u001b[1;38;2;55;65;81m(\u001b[0m\u001b[38;2;55;65;81musing gemini-\u001b[0m\u001b[1;38;2;55;65;81m2.0\u001b[0m\u001b[38;2;55;65;81m-flash, \u001b[0m\u001b[38;2;55;65;81mstrict\u001b[0m\u001b[38;2;55;65;81m=\u001b[0m\u001b[3;38;2;55;65;81mFalse\u001b[0m\u001b[38;2;55;65;81m, \u001b[0m\n",
       "\u001b[38;2;55;65;81masync_mode\u001b[0m\u001b[38;2;55;65;81m=\u001b[0m\u001b[3;38;2;55;65;81mTrue\u001b[0m\u001b[1;38;2;55;65;81m)\u001b[0m\u001b[38;2;55;65;81m...\u001b[0m\n"
      ]
     },
     "metadata": {},
     "output_type": "display_data"
    },
    {
     "name": "stderr",
     "output_type": "stream",
     "text": [
      "Evaluating 100 test case(s) in parallel: |█████▏    | 52% (52/100) [Time Taken: 00:27,  1.91test case/s]"
     ]
    },
    {
     "name": "stdout",
     "output_type": "stream",
     "text": [
      "Batch 1 failed with error: 'NoneType' object has no attribute 'truths'\n"
     ]
    },
    {
     "name": "stderr",
     "output_type": "stream",
     "text": [
      "\n"
     ]
    }
   ],
   "source": [
    "results = batch_summarization_score(\n",
    "    input_output_pairs=list(\n",
    "        df[[\"body\", \"generated\"]].itertuples(index=False, name=None)\n",
    "    ),\n",
    "    api_key=API_KEY,\n",
    ")"
   ]
  },
  {
   "cell_type": "code",
   "execution_count": 5,
   "id": "3fbe44b0",
   "metadata": {},
   "outputs": [
    {
     "name": "stdout",
     "output_type": "stream",
     "text": [
      "An error occurred: Result is None\n",
      "An error occurred: Result is None\n",
      "An error occurred: Result is None\n",
      "An error occurred: Result is None\n",
      "An error occurred: Result is None\n",
      "An error occurred: Result is None\n",
      "An error occurred: Result is None\n",
      "An error occurred: Result is None\n",
      "An error occurred: Result is None\n",
      "An error occurred: Result is None\n",
      "An error occurred: Result is None\n",
      "An error occurred: Result is None\n",
      "An error occurred: Result is None\n",
      "An error occurred: Result is None\n",
      "An error occurred: Result is None\n",
      "An error occurred: Result is None\n",
      "An error occurred: Result is None\n",
      "An error occurred: Result is None\n",
      "An error occurred: Result is None\n",
      "An error occurred: Result is None\n",
      "An error occurred: Result is None\n",
      "An error occurred: Result is None\n",
      "An error occurred: Result is None\n",
      "An error occurred: Result is None\n",
      "An error occurred: Result is None\n",
      "An error occurred: Result is None\n",
      "An error occurred: Result is None\n",
      "An error occurred: Result is None\n",
      "An error occurred: Result is None\n",
      "An error occurred: Result is None\n",
      "An error occurred: Result is None\n",
      "An error occurred: Result is None\n",
      "An error occurred: Result is None\n",
      "An error occurred: Result is None\n",
      "An error occurred: Result is None\n",
      "An error occurred: Result is None\n",
      "An error occurred: Result is None\n",
      "An error occurred: Result is None\n",
      "An error occurred: Result is None\n",
      "An error occurred: Result is None\n",
      "An error occurred: Result is None\n",
      "An error occurred: Result is None\n",
      "An error occurred: Result is None\n",
      "An error occurred: Result is None\n",
      "An error occurred: Result is None\n",
      "An error occurred: Result is None\n",
      "An error occurred: Result is None\n",
      "An error occurred: Result is None\n",
      "An error occurred: Result is None\n",
      "An error occurred: Result is None\n",
      "An error occurred: Result is None\n",
      "An error occurred: Result is None\n",
      "An error occurred: Result is None\n",
      "An error occurred: Result is None\n",
      "An error occurred: Result is None\n",
      "An error occurred: Result is None\n",
      "An error occurred: Result is None\n",
      "An error occurred: Result is None\n",
      "An error occurred: Result is None\n",
      "An error occurred: Result is None\n",
      "An error occurred: Result is None\n",
      "An error occurred: Result is None\n",
      "An error occurred: Result is None\n",
      "An error occurred: Result is None\n",
      "An error occurred: Result is None\n",
      "An error occurred: Result is None\n",
      "An error occurred: Result is None\n",
      "An error occurred: Result is None\n",
      "An error occurred: Result is None\n",
      "An error occurred: Result is None\n",
      "An error occurred: Result is None\n",
      "An error occurred: Result is None\n",
      "An error occurred: Result is None\n",
      "An error occurred: Result is None\n",
      "An error occurred: Result is None\n",
      "An error occurred: Result is None\n",
      "An error occurred: Result is None\n",
      "An error occurred: Result is None\n",
      "An error occurred: Result is None\n",
      "An error occurred: Result is None\n",
      "An error occurred: Result is None\n",
      "An error occurred: Result is None\n",
      "An error occurred: Result is None\n",
      "An error occurred: Result is None\n",
      "An error occurred: Result is None\n",
      "An error occurred: Result is None\n",
      "An error occurred: Result is None\n",
      "An error occurred: Result is None\n",
      "An error occurred: Result is None\n",
      "An error occurred: Result is None\n",
      "An error occurred: Result is None\n",
      "An error occurred: Result is None\n",
      "An error occurred: Result is None\n",
      "An error occurred: Result is None\n",
      "An error occurred: Result is None\n",
      "An error occurred: Result is None\n",
      "An error occurred: Result is None\n",
      "An error occurred: Result is None\n",
      "An error occurred: Result is None\n",
      "An error occurred: Result is None\n"
     ]
    }
   ],
   "source": [
    "scores = []\n",
    "for r in results:\n",
    "    try:\n",
    "        if r is None:\n",
    "            raise ValueError(\"Result is None\")\n",
    "        scores.append(r.metrics_data[0].score)\n",
    "    except Exception as e:\n",
    "        print(f\"An error occurred: {e}\")\n",
    "        scores.append(0)"
   ]
  },
  {
   "cell_type": "code",
   "execution_count": 6,
   "id": "58eaa2c4",
   "metadata": {},
   "outputs": [],
   "source": [
    "df2 = pd.DataFrame({'body': df['body'], 'score': scores})\n",
    "df2.to_csv('score-gemini.csv',index=False)"
   ]
  }
 ],
 "metadata": {
  "kernelspec": {
   "display_name": "datascience",
   "language": "python",
   "name": "python3"
  },
  "language_info": {
   "codemirror_mode": {
    "name": "ipython",
    "version": 3
   },
   "file_extension": ".py",
   "mimetype": "text/x-python",
   "name": "python",
   "nbconvert_exporter": "python",
   "pygments_lexer": "ipython3",
   "version": "3.11.11"
  }
 },
 "nbformat": 4,
 "nbformat_minor": 5
}

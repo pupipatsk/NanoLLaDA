{
 "cells": [
  {
   "cell_type": "code",
   "execution_count": 1,
   "id": "cf282776",
   "metadata": {},
   "outputs": [],
   "source": [
    "import pandas as pd"
   ]
  },
  {
   "cell_type": "code",
   "execution_count": 2,
   "id": "fd49e14e",
   "metadata": {},
   "outputs": [],
   "source": [
    "df = pd.read_csv('/Users/pupipatsingkhorn/Developer/repositories/NanoLLaDA/data/train.csv')"
   ]
  },
  {
   "cell_type": "code",
   "execution_count": 3,
   "id": "0f8240f6",
   "metadata": {},
   "outputs": [
    {
     "data": {
      "text/plain": [
       "(43075, 358868)"
      ]
     },
     "execution_count": 3,
     "metadata": {},
     "output_type": "execute_result"
    }
   ],
   "source": [
    "data = [x for x in df['body'].values.tolist() if len(x) <= 1024]\n",
    "len(data),len(df)"
   ]
  },
  {
   "cell_type": "code",
   "execution_count": 4,
   "id": "4cf43f19",
   "metadata": {},
   "outputs": [],
   "source": [
    "filtered_df = df[df['body'].apply(lambda x: len(x) <= 1024)]"
   ]
  },
  {
   "cell_type": "code",
   "execution_count": 5,
   "id": "31739f99",
   "metadata": {},
   "outputs": [],
   "source": [
    "df_save=filtered_df.sample(10000)\n",
    "df_save.to_csv('/Users/pupipatsingkhorn/Developer/repositories/NanoLLaDA/data/train-10000-1024.csv', index=False)"
   ]
  },
  {
   "cell_type": "code",
   "execution_count": null,
   "id": "5b593d64",
   "metadata": {},
   "outputs": [],
   "source": []
  }
 ],
 "metadata": {
  "kernelspec": {
   "display_name": "datascience",
   "language": "python",
   "name": "python3"
  },
  "language_info": {
   "codemirror_mode": {
    "name": "ipython",
    "version": 3
   },
   "file_extension": ".py",
   "mimetype": "text/x-python",
   "name": "python",
   "nbconvert_exporter": "python",
   "pygments_lexer": "ipython3",
   "version": "3.11.11"
  }
 },
 "nbformat": 4,
 "nbformat_minor": 5
}

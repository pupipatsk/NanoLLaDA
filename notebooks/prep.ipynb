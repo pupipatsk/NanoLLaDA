{
 "cells": [
  {
   "cell_type": "code",
   "execution_count": 1,
   "id": "cf282776",
   "metadata": {},
   "outputs": [],
   "source": [
    "import pandas as pd"
   ]
  },
  {
   "cell_type": "code",
   "execution_count": 2,
   "id": "fd49e14e",
   "metadata": {},
   "outputs": [],
   "source": [
    "df = pd.read_csv('/Users/pupipatsingkhorn/Developer/repositories/NanoLLaDA/data/raw/test.csv')"
   ]
  },
  {
   "cell_type": "code",
   "execution_count": 3,
   "id": "0f8240f6",
   "metadata": {},
   "outputs": [],
   "source": [
    "LEN = 2048\n",
    "AMT = 100\n",
    "data = [x for x in df['body'].values.tolist() if len(x) <= LEN]\n",
    "len(data),len(df)\n",
    "filtered_df = df[df['body'].apply(lambda x: len(x) <= LEN)]\n",
    "\n",
    "df_save=filtered_df.sample(AMT, random_state=42)\n",
    "df_save.to_csv('/Users/pupipatsingkhorn/Developer/repositories/NanoLLaDA/data/test-100-2048.csv', index=False)"
   ]
  }
 ],
 "metadata": {
  "kernelspec": {
   "display_name": "datascience",
   "language": "python",
   "name": "python3"
  },
  "language_info": {
   "codemirror_mode": {
    "name": "ipython",
    "version": 3
   },
   "file_extension": ".py",
   "mimetype": "text/x-python",
   "name": "python",
   "nbconvert_exporter": "python",
   "pygments_lexer": "ipython3",
   "version": "3.11.11"
  }
 },
 "nbformat": 4,
 "nbformat_minor": 5
}
